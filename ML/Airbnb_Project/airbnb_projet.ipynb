{
 "cells": [
  {
   "cell_type": "code",
   "execution_count": 1,
   "id": "c525768e",
   "metadata": {},
   "outputs": [
    {
     "name": "stdout",
     "output_type": "stream",
     "text": [
      "🔹 Train dataset:\n",
      "(22234, 28)\n",
      "         id  log_price property_type        room_type  \\\n",
      "0   5708593   4.317488         House     Private room   \n",
      "1  14483613   4.007333         House     Private room   \n",
      "2  10412649   7.090077     Apartment  Entire home/apt   \n",
      "3  17954362   3.555348         House     Private room   \n",
      "4   9969781   5.480639         House  Entire home/apt   \n",
      "\n",
      "                                           amenities  accommodates  bathrooms  \\\n",
      "0  {TV,\"Wireless Internet\",Kitchen,\"Free parking ...             3        1.0   \n",
      "1  {\"Wireless Internet\",\"Air conditioning\",Kitche...             4        2.0   \n",
      "2  {TV,\"Wireless Internet\",\"Air conditioning\",Kit...             6        2.0   \n",
      "3  {TV,\"Cable TV\",Internet,\"Wireless Internet\",\"A...             1        1.0   \n",
      "4  {TV,\"Cable TV\",Internet,\"Wireless Internet\",Ki...             4        1.0   \n",
      "\n",
      "   bed_type cancellation_policy  cleaning_fee  ... last_review   latitude  \\\n",
      "0  Real Bed            flexible         False  ...         NaN  33.782712   \n",
      "1  Real Bed              strict         False  ...  2017-09-17  40.705468   \n",
      "2  Real Bed            flexible         False  ...         NaN  38.917537   \n",
      "3  Real Bed            flexible          True  ...  2017-09-29  40.736001   \n",
      "4  Real Bed            moderate          True  ...  2017-08-28  37.744896   \n",
      "\n",
      "    longitude                                               name  \\\n",
      "0 -118.134410                            Island style Spa Studio   \n",
      "1  -73.909439  Beautiful and Simple Room W/2 Beds, 25 Mins to...   \n",
      "2  -77.031651  2br/2ba luxury condo perfect for infant / toddler   \n",
      "3  -73.924248   Manhattan view from Queens. Lovely single room .   \n",
      "4 -122.430665                      Zen Captured Noe Valley House   \n",
      "\n",
      "       neighbourhood number_of_reviews review_scores_rating zipcode bedrooms  \\\n",
      "0         Long Beach                 0                  NaN   90804      0.0   \n",
      "1          Ridgewood                38                 86.0   11385      1.0   \n",
      "2  U Street Corridor                 0                  NaN   20009      2.0   \n",
      "3          Sunnyside                19                 96.0   11104      1.0   \n",
      "4         Noe Valley                15                 96.0   94131      2.0   \n",
      "\n",
      "   beds  \n",
      "0   2.0  \n",
      "1   2.0  \n",
      "2   2.0  \n",
      "3   1.0  \n",
      "4   2.0  \n",
      "\n",
      "[5 rows x 28 columns]\n",
      "\n",
      "🔹 Test dataset:\n",
      "(51877, 27)\n",
      "   Unnamed: 0 property_type        room_type  \\\n",
      "0    14282777     Apartment  Entire home/apt   \n",
      "1    17029381     Apartment  Entire home/apt   \n",
      "2     7824740     Apartment  Entire home/apt   \n",
      "3    19811650         House  Entire home/apt   \n",
      "4    12410741     Apartment  Entire home/apt   \n",
      "\n",
      "                                           amenities  accommodates  bathrooms  \\\n",
      "0  {\"Wireless Internet\",\"Air conditioning\",Kitche...             3        1.0   \n",
      "1  {\"Wireless Internet\",\"Air conditioning\",Kitche...             7        1.0   \n",
      "2  {TV,\"Cable TV\",\"Wireless Internet\",\"Air condit...             5        1.0   \n",
      "3  {TV,\"Cable TV\",Internet,\"Wireless Internet\",Ki...             4        1.0   \n",
      "4  {TV,Internet,\"Wireless Internet\",\"Air conditio...             2        1.0   \n",
      "\n",
      "   bed_type cancellation_policy  cleaning_fee city  ... last_review  \\\n",
      "0  Real Bed              strict          True  NYC  ...  2016-07-18   \n",
      "1  Real Bed              strict          True  NYC  ...  2017-09-23   \n",
      "2  Real Bed            moderate          True  NYC  ...  2017-09-14   \n",
      "3  Real Bed            flexible          True   SF  ...         NaN   \n",
      "4  Real Bed            moderate          True   DC  ...  2017-01-22   \n",
      "\n",
      "    latitude   longitude                                      name  \\\n",
      "0  40.696524  -73.991617            Beautiful brownstone 1-bedroom   \n",
      "1  40.766115  -73.989040  Superb 3BR Apt Located Near Times Square   \n",
      "2  40.808110  -73.943756                          The Garden Oasis   \n",
      "3  37.772004 -122.431619        Beautiful Flat in the Heart of SF!   \n",
      "4  38.925627  -77.034596                Great studio in midtown DC   \n",
      "\n",
      "      neighbourhood number_of_reviews review_scores_rating  zipcode  bedrooms  \\\n",
      "0  Brooklyn Heights                 2                100.0    11201       1.0   \n",
      "1    Hell's Kitchen                 6                 93.0    10019       3.0   \n",
      "2            Harlem                10                 92.0    10027       1.0   \n",
      "3      Lower Haight                 0                  NaN  94117.0       2.0   \n",
      "4  Columbia Heights                 4                 40.0    20009       0.0   \n",
      "\n",
      "   beds  \n",
      "0   1.0  \n",
      "1   3.0  \n",
      "2   3.0  \n",
      "3   2.0  \n",
      "4   1.0  \n",
      "\n",
      "[5 rows x 27 columns]\n"
     ]
    }
   ],
   "source": [
    "import pandas as pd\n",
    "\n",
    "# Chargement des fichiers\n",
    "train_df = pd.read_csv(\"airbnb_train.csv\")\n",
    "test_df = pd.read_csv(\"airbnb_test.csv\")\n",
    "\n",
    "# Aperçu des données\n",
    "print(\"🔹 Train dataset:\")\n",
    "print(train_df.shape)\n",
    "print(train_df.head())\n",
    "\n",
    "print(\"\\n🔹 Test dataset:\")\n",
    "print(test_df.shape)\n",
    "print(test_df.head())\n"
   ]
  },
  {
   "cell_type": "code",
   "execution_count": 2,
   "id": "1d020350",
   "metadata": {},
   "outputs": [
    {
     "name": "stdout",
     "output_type": "stream",
     "text": [
      "🔎 Pourcentage de valeurs manquantes dans le train:\n",
      "host_response_rate        24.624449\n",
      "review_scores_rating      22.389134\n",
      "first_review              21.251237\n",
      "last_review               21.210758\n",
      "neighbourhood              9.382028\n",
      "zipcode                    1.362778\n",
      "host_has_profile_pic       0.251867\n",
      "host_identity_verified     0.251867\n",
      "host_since                 0.251867\n",
      "bathrooms                  0.229378\n",
      "beds                       0.157417\n",
      "bedrooms                   0.116938\n",
      "dtype: float64\n"
     ]
    }
   ],
   "source": [
    "# Pourcentage de valeurs manquantes dans le train\n",
    "missing_train = train_df.isnull().mean().sort_values(ascending=False) * 100\n",
    "print(\"🔎 Pourcentage de valeurs manquantes dans le train:\")\n",
    "print(missing_train[missing_train > 0])\n"
   ]
  },
  {
   "cell_type": "code",
   "execution_count": 3,
   "id": "02a3616d",
   "metadata": {},
   "outputs": [
    {
     "name": "stdout",
     "output_type": "stream",
     "text": [
      "\n",
      "🔎 Pourcentage de valeurs manquantes dans le test:\n",
      "host_response_rate        24.720011\n",
      "review_scores_rating      22.638163\n",
      "first_review              21.471943\n",
      "last_review               21.417969\n",
      "neighbourhood              9.225668\n",
      "zipcode                    1.278023\n",
      "bathrooms                  0.287218\n",
      "host_has_profile_pic       0.254448\n",
      "host_identity_verified     0.254448\n",
      "host_since                 0.254448\n",
      "beds                       0.185053\n",
      "bedrooms                   0.125296\n",
      "dtype: float64\n"
     ]
    }
   ],
   "source": [
    "# Pourcentage de valeurs manquantes dans le test\n",
    "missing_test = test_df.isnull().mean().sort_values(ascending=False) * 100\n",
    "print(\"\\n🔎 Pourcentage de valeurs manquantes dans le test:\")\n",
    "print(missing_test[missing_test > 0])\n"
   ]
  },
  {
   "cell_type": "code",
   "execution_count": 4,
   "id": "0ac47351",
   "metadata": {},
   "outputs": [
    {
     "name": "stderr",
     "output_type": "stream",
     "text": [
      "/tmp/ipykernel_28330/703085112.py:2: FutureWarning: A value is trying to be set on a copy of a DataFrame or Series through chained assignment using an inplace method.\n",
      "The behavior will change in pandas 3.0. This inplace method will never work because the intermediate object on which we are setting values always behaves as a copy.\n",
      "\n",
      "For example, when doing 'df[col].method(value, inplace=True)', try using 'df.method({col: value}, inplace=True)' or df[col] = df[col].method(value) instead, to perform the operation inplace on the original object.\n",
      "\n",
      "\n",
      "  train_df[col].fillna(train_df[col].median(), inplace=True)\n",
      "/tmp/ipykernel_28330/703085112.py:3: FutureWarning: A value is trying to be set on a copy of a DataFrame or Series through chained assignment using an inplace method.\n",
      "The behavior will change in pandas 3.0. This inplace method will never work because the intermediate object on which we are setting values always behaves as a copy.\n",
      "\n",
      "For example, when doing 'df[col].method(value, inplace=True)', try using 'df.method({col: value}, inplace=True)' or df[col] = df[col].method(value) instead, to perform the operation inplace on the original object.\n",
      "\n",
      "\n",
      "  test_df[col].fillna(test_df[col].median(), inplace=True)\n",
      "/tmp/ipykernel_28330/703085112.py:2: FutureWarning: A value is trying to be set on a copy of a DataFrame or Series through chained assignment using an inplace method.\n",
      "The behavior will change in pandas 3.0. This inplace method will never work because the intermediate object on which we are setting values always behaves as a copy.\n",
      "\n",
      "For example, when doing 'df[col].method(value, inplace=True)', try using 'df.method({col: value}, inplace=True)' or df[col] = df[col].method(value) instead, to perform the operation inplace on the original object.\n",
      "\n",
      "\n",
      "  train_df[col].fillna(train_df[col].median(), inplace=True)\n",
      "/tmp/ipykernel_28330/703085112.py:3: FutureWarning: A value is trying to be set on a copy of a DataFrame or Series through chained assignment using an inplace method.\n",
      "The behavior will change in pandas 3.0. This inplace method will never work because the intermediate object on which we are setting values always behaves as a copy.\n",
      "\n",
      "For example, when doing 'df[col].method(value, inplace=True)', try using 'df.method({col: value}, inplace=True)' or df[col] = df[col].method(value) instead, to perform the operation inplace on the original object.\n",
      "\n",
      "\n",
      "  test_df[col].fillna(test_df[col].median(), inplace=True)\n",
      "/tmp/ipykernel_28330/703085112.py:2: FutureWarning: A value is trying to be set on a copy of a DataFrame or Series through chained assignment using an inplace method.\n",
      "The behavior will change in pandas 3.0. This inplace method will never work because the intermediate object on which we are setting values always behaves as a copy.\n",
      "\n",
      "For example, when doing 'df[col].method(value, inplace=True)', try using 'df.method({col: value}, inplace=True)' or df[col] = df[col].method(value) instead, to perform the operation inplace on the original object.\n",
      "\n",
      "\n",
      "  train_df[col].fillna(train_df[col].median(), inplace=True)\n",
      "/tmp/ipykernel_28330/703085112.py:3: FutureWarning: A value is trying to be set on a copy of a DataFrame or Series through chained assignment using an inplace method.\n",
      "The behavior will change in pandas 3.0. This inplace method will never work because the intermediate object on which we are setting values always behaves as a copy.\n",
      "\n",
      "For example, when doing 'df[col].method(value, inplace=True)', try using 'df.method({col: value}, inplace=True)' or df[col] = df[col].method(value) instead, to perform the operation inplace on the original object.\n",
      "\n",
      "\n",
      "  test_df[col].fillna(test_df[col].median(), inplace=True)\n"
     ]
    }
   ],
   "source": [
    "for col in ['bathrooms', 'bedrooms', 'beds']:\n",
    "    train_df[col].fillna(train_df[col].median(), inplace=True)\n",
    "    test_df[col].fillna(test_df[col].median(), inplace=True)\n"
   ]
  },
  {
   "cell_type": "code",
   "execution_count": 5,
   "id": "f923e28b",
   "metadata": {},
   "outputs": [
    {
     "name": "stderr",
     "output_type": "stream",
     "text": [
      "/tmp/ipykernel_28330/3642722742.py:3: FutureWarning: A value is trying to be set on a copy of a DataFrame or Series through chained assignment using an inplace method.\n",
      "The behavior will change in pandas 3.0. This inplace method will never work because the intermediate object on which we are setting values always behaves as a copy.\n",
      "\n",
      "For example, when doing 'df[col].method(value, inplace=True)', try using 'df.method({col: value}, inplace=True)' or df[col] = df[col].method(value) instead, to perform the operation inplace on the original object.\n",
      "\n",
      "\n",
      "  train_df[col].fillna(False, inplace=True)\n",
      "/tmp/ipykernel_28330/3642722742.py:4: FutureWarning: A value is trying to be set on a copy of a DataFrame or Series through chained assignment using an inplace method.\n",
      "The behavior will change in pandas 3.0. This inplace method will never work because the intermediate object on which we are setting values always behaves as a copy.\n",
      "\n",
      "For example, when doing 'df[col].method(value, inplace=True)', try using 'df.method({col: value}, inplace=True)' or df[col] = df[col].method(value) instead, to perform the operation inplace on the original object.\n",
      "\n",
      "\n",
      "  test_df[col].fillna(False, inplace=True)\n"
     ]
    }
   ],
   "source": [
    "bool_cols = ['host_has_profile_pic', 'host_identity_verified']\n",
    "for col in bool_cols:\n",
    "    train_df[col].fillna(False, inplace=True)\n",
    "    test_df[col].fillna(False, inplace=True)\n"
   ]
  },
  {
   "cell_type": "code",
   "execution_count": 6,
   "id": "e05c3c36",
   "metadata": {},
   "outputs": [
    {
     "name": "stderr",
     "output_type": "stream",
     "text": [
      "/tmp/ipykernel_28330/4008468955.py:6: FutureWarning: A value is trying to be set on a copy of a DataFrame or Series through chained assignment using an inplace method.\n",
      "The behavior will change in pandas 3.0. This inplace method will never work because the intermediate object on which we are setting values always behaves as a copy.\n",
      "\n",
      "For example, when doing 'df[col].method(value, inplace=True)', try using 'df.method({col: value}, inplace=True)' or df[col] = df[col].method(value) instead, to perform the operation inplace on the original object.\n",
      "\n",
      "\n",
      "  df['host_age_days'].fillna(df['host_age_days'].median(), inplace=True)\n",
      "/tmp/ipykernel_28330/4008468955.py:6: FutureWarning: A value is trying to be set on a copy of a DataFrame or Series through chained assignment using an inplace method.\n",
      "The behavior will change in pandas 3.0. This inplace method will never work because the intermediate object on which we are setting values always behaves as a copy.\n",
      "\n",
      "For example, when doing 'df[col].method(value, inplace=True)', try using 'df.method({col: value}, inplace=True)' or df[col] = df[col].method(value) instead, to perform the operation inplace on the original object.\n",
      "\n",
      "\n",
      "  df['host_age_days'].fillna(df['host_age_days'].median(), inplace=True)\n"
     ]
    }
   ],
   "source": [
    "from datetime import datetime\n",
    "\n",
    "def convert_to_host_age(df):\n",
    "    df['host_since'] = pd.to_datetime(df['host_since'], errors='coerce')\n",
    "    df['host_age_days'] = (datetime(2023, 1, 1) - df['host_since']).dt.days\n",
    "    df['host_age_days'].fillna(df['host_age_days'].median(), inplace=True)\n",
    "    return df\n",
    "\n",
    "train_df = convert_to_host_age(train_df)\n",
    "test_df = convert_to_host_age(test_df)\n"
   ]
  },
  {
   "cell_type": "code",
   "execution_count": 7,
   "id": "181529da",
   "metadata": {},
   "outputs": [
    {
     "name": "stderr",
     "output_type": "stream",
     "text": [
      "/tmp/ipykernel_28330/2189814632.py:1: FutureWarning: A value is trying to be set on a copy of a DataFrame or Series through chained assignment using an inplace method.\n",
      "The behavior will change in pandas 3.0. This inplace method will never work because the intermediate object on which we are setting values always behaves as a copy.\n",
      "\n",
      "For example, when doing 'df[col].method(value, inplace=True)', try using 'df.method({col: value}, inplace=True)' or df[col] = df[col].method(value) instead, to perform the operation inplace on the original object.\n",
      "\n",
      "\n",
      "  train_df['review_scores_rating'].fillna(train_df['review_scores_rating'].mean(), inplace=True)\n",
      "/tmp/ipykernel_28330/2189814632.py:2: FutureWarning: A value is trying to be set on a copy of a DataFrame or Series through chained assignment using an inplace method.\n",
      "The behavior will change in pandas 3.0. This inplace method will never work because the intermediate object on which we are setting values always behaves as a copy.\n",
      "\n",
      "For example, when doing 'df[col].method(value, inplace=True)', try using 'df.method({col: value}, inplace=True)' or df[col] = df[col].method(value) instead, to perform the operation inplace on the original object.\n",
      "\n",
      "\n",
      "  test_df['review_scores_rating'].fillna(test_df['review_scores_rating'].mean(), inplace=True)\n"
     ]
    }
   ],
   "source": [
    "train_df['review_scores_rating'].fillna(train_df['review_scores_rating'].mean(), inplace=True)\n",
    "test_df['review_scores_rating'].fillna(test_df['review_scores_rating'].mean(), inplace=True)\n"
   ]
  },
  {
   "cell_type": "code",
   "execution_count": 8,
   "id": "d02dbb37",
   "metadata": {},
   "outputs": [
    {
     "name": "stderr",
     "output_type": "stream",
     "text": [
      "/tmp/ipykernel_28330/3510641566.py:3: FutureWarning: A value is trying to be set on a copy of a DataFrame or Series through chained assignment using an inplace method.\n",
      "The behavior will change in pandas 3.0. This inplace method will never work because the intermediate object on which we are setting values always behaves as a copy.\n",
      "\n",
      "For example, when doing 'df[col].method(value, inplace=True)', try using 'df.method({col: value}, inplace=True)' or df[col] = df[col].method(value) instead, to perform the operation inplace on the original object.\n",
      "\n",
      "\n",
      "  df['host_response_rate'].fillna(df['host_response_rate'].median(), inplace=True)\n",
      "/tmp/ipykernel_28330/3510641566.py:3: FutureWarning: A value is trying to be set on a copy of a DataFrame or Series through chained assignment using an inplace method.\n",
      "The behavior will change in pandas 3.0. This inplace method will never work because the intermediate object on which we are setting values always behaves as a copy.\n",
      "\n",
      "For example, when doing 'df[col].method(value, inplace=True)', try using 'df.method({col: value}, inplace=True)' or df[col] = df[col].method(value) instead, to perform the operation inplace on the original object.\n",
      "\n",
      "\n",
      "  df['host_response_rate'].fillna(df['host_response_rate'].median(), inplace=True)\n"
     ]
    }
   ],
   "source": [
    "for df in [train_df, test_df]:\n",
    "    df['host_response_rate'] = df['host_response_rate'].str.rstrip('%').astype(float)\n",
    "    df['host_response_rate'].fillna(df['host_response_rate'].median(), inplace=True)\n"
   ]
  },
  {
   "cell_type": "code",
   "execution_count": 9,
   "id": "827b3985",
   "metadata": {},
   "outputs": [],
   "source": [
    "train_df['instant_bookable'] = train_df['instant_bookable'].astype(bool).astype(int)\n",
    "test_df['instant_bookable'] = test_df['instant_bookable'].astype(bool).astype(int)\n"
   ]
  },
  {
   "cell_type": "code",
   "execution_count": 10,
   "id": "e7c27a6b",
   "metadata": {},
   "outputs": [],
   "source": [
    "train_df['cleaning_fee'] = train_df['cleaning_fee'].astype(bool).astype(int)\n",
    "test_df['cleaning_fee'] = test_df['cleaning_fee'].astype(bool).astype(int)\n"
   ]
  },
  {
   "cell_type": "code",
   "execution_count": 13,
   "id": "a1c62f59",
   "metadata": {},
   "outputs": [],
   "source": [
    "import ast\n",
    "\n",
    "def safe_count_amenities(amenities_str):\n",
    "    try:\n",
    "        return len(ast.literal_eval(amenities_str))\n",
    "    except:\n",
    "        return 0\n",
    "\n",
    "train_df['nb_amenities'] = train_df['amenities'].apply(safe_count_amenities)\n",
    "test_df['nb_amenities'] = test_df['amenities'].apply(safe_count_amenities)\n"
   ]
  },
  {
   "cell_type": "code",
   "execution_count": 14,
   "id": "bd2131df",
   "metadata": {},
   "outputs": [],
   "source": [
    "train_df['len_description'] = train_df['description'].fillna(\"\").apply(len)\n",
    "test_df['len_description'] = test_df['description'].fillna(\"\").apply(len)\n"
   ]
  },
  {
   "cell_type": "code",
   "execution_count": 15,
   "id": "f7a48676",
   "metadata": {},
   "outputs": [],
   "source": [
    "def top_categories(series, top_n=10):\n",
    "    top = series.value_counts().nlargest(top_n).index\n",
    "    return series.apply(lambda x: x if x in top else 'Other')\n"
   ]
  },
  {
   "cell_type": "code",
   "execution_count": 16,
   "id": "703ddb87",
   "metadata": {},
   "outputs": [],
   "source": [
    "# Apply to both train and test\n",
    "for df in [train_df, test_df]:\n",
    "    df['property_type'] = top_categories(df['property_type'])\n"
   ]
  },
  {
   "cell_type": "code",
   "execution_count": 17,
   "id": "2a8a9a4c",
   "metadata": {},
   "outputs": [],
   "source": [
    "cat_cols = ['property_type', 'room_type', 'bed_type', 'cancellation_policy']\n",
    "\n",
    "train_df = pd.get_dummies(train_df, columns=cat_cols, drop_first=True)\n",
    "test_df = pd.get_dummies(test_df, columns=cat_cols, drop_first=True)\n",
    "\n",
    "# Aligner les colonnes (très important pour éviter mismatch train/test)\n",
    "train_df, test_df = train_df.align(test_df, join='left', axis=1, fill_value=0)\n"
   ]
  },
  {
   "cell_type": "code",
   "execution_count": 18,
   "id": "e4e27d53",
   "metadata": {},
   "outputs": [],
   "source": [
    "from sklearn.preprocessing import LabelEncoder\n",
    "\n",
    "le = LabelEncoder()\n",
    "combined_zip = pd.concat([train_df['zipcode'], test_df['zipcode']], axis=0).astype(str)\n",
    "le.fit(combined_zip)\n",
    "\n",
    "train_df['zipcode_enc'] = le.transform(train_df['zipcode'].astype(str))\n",
    "test_df['zipcode_enc'] = le.transform(test_df['zipcode'].astype(str))\n"
   ]
  },
  {
   "cell_type": "code",
   "execution_count": 19,
   "id": "3c6545cc",
   "metadata": {},
   "outputs": [],
   "source": [
    "# On enlève les colonnes non utiles\n",
    "drop_cols = ['id', 'log_price', 'description', 'name', 'amenities', 'first_review', 'last_review', \n",
    "             'host_since', 'zipcode', 'neighbourhood', 'host_has_profile_pic', 'host_identity_verified']\n",
    "\n",
    "# Créer X et y\n",
    "X_train = train_df.drop(columns=drop_cols)\n",
    "y_train = train_df['log_price']\n",
    "\n",
    "# Même nettoyage sur le test set (on garde 'id' de côté pour prédire plus tard)\n",
    "X_test = test_df.drop(columns=drop_cols)\n"
   ]
  },
  {
   "cell_type": "code",
   "execution_count": 24,
   "id": "6eb409e9",
   "metadata": {},
   "outputs": [
    {
     "name": "stdout",
     "output_type": "stream",
     "text": [
      "Index([], dtype='object')\n"
     ]
    }
   ],
   "source": [
    "print(X_train.select_dtypes(include='object').columns)\n"
   ]
  },
  {
   "cell_type": "code",
   "execution_count": 25,
   "id": "bbdacce9",
   "metadata": {},
   "outputs": [
    {
     "name": "stdout",
     "output_type": "stream",
     "text": [
      "✅ Cross-validated RMSE: 0.41296086546708055\n"
     ]
    }
   ],
   "source": [
    "from sklearn.ensemble import RandomForestRegressor\n",
    "from sklearn.model_selection import cross_val_score\n",
    "from sklearn.metrics import mean_squared_error\n",
    "import numpy as np\n",
    "\n",
    "# Modèle de base\n",
    "model = RandomForestRegressor(n_estimators=100, random_state=42, n_jobs=-1)\n",
    "\n",
    "# Évaluation en cross-validation (RMSE)\n",
    "scores = cross_val_score(model, X_train, y_train, cv=5, scoring='neg_root_mean_squared_error')\n",
    "print(\"✅ Cross-validated RMSE:\", -scores.mean())\n"
   ]
  },
  {
   "cell_type": "code",
   "execution_count": 26,
   "id": "2532ea09",
   "metadata": {},
   "outputs": [],
   "source": [
    "from sklearn.model_selection import cross_val_score\n",
    "from sklearn.metrics import mean_squared_error\n",
    "import numpy as np\n",
    "\n",
    "def evaluate_model(model, X, y, cv=5):\n",
    "    scores = cross_val_score(model, X, y, cv=cv, scoring='neg_root_mean_squared_error')\n",
    "    rmse = -scores.mean()\n",
    "    print(f\"{model.__class__.__name__} ⟶ RMSE: {rmse:.4f}\")\n",
    "    return rmse\n"
   ]
  },
  {
   "cell_type": "code",
   "execution_count": null,
   "id": "e873d73c",
   "metadata": {},
   "outputs": [
    {
     "name": "stdout",
     "output_type": "stream",
     "text": [
      "LinearRegression ⟶ RMSE: 0.4668\n",
      "Ridge ⟶ RMSE: 0.4718\n",
      "Lasso ⟶ RMSE: 0.4851\n",
      "GradientBoostingRegressor ⟶ RMSE: 0.4159\n",
      "RandomForestRegressor ⟶ RMSE: 0.4130\n"
     ]
    }
   ],
   "source": [
    "from sklearn.linear_model import LinearRegression, Ridge, Lasso\n",
    "from sklearn.ensemble import RandomForestRegressor, GradientBoostingRegressor\n",
    "\n",
    "# Liste de modèles\n",
    "models = [\n",
    "    LinearRegression(),\n",
    "    Ridge(alpha=1.0),\n",
    "    Lasso(alpha=0.01),\n",
    "    GradientBoostingRegressor(n_estimators=100, random_state=42),\n",
    "    RandomForestRegressor(n_estimators=100, random_state=42, n_jobs=-1)  \n",
    "\n",
    "# Évaluation\n",
    "results = {}\n",
    "for model in models:\n",
    "    rmse = evaluate_model(model, X_train, y_train)\n",
    "    results[model.__class__.__name__] = rmse\n"
   ]
  },
  {
   "cell_type": "code",
   "execution_count": null,
   "id": "8330861c",
   "metadata": {},
   "outputs": [],
   "source": []
  },
  {
   "cell_type": "code",
   "execution_count": null,
   "id": "b463b082",
   "metadata": {},
   "outputs": [],
   "source": []
  },
  {
   "cell_type": "code",
   "execution_count": 28,
   "id": "823d43cd",
   "metadata": {},
   "outputs": [
    {
     "name": "stdout",
     "output_type": "stream",
     "text": [
      "✅ Best params: {'max_depth': None, 'min_samples_leaf': 2, 'min_samples_split': 5, 'n_estimators': 200}\n",
      "✅ Best RMSE: 0.4102554430106332\n"
     ]
    }
   ],
   "source": [
    "from sklearn.model_selection import GridSearchCV\n",
    "\n",
    "param_grid = {\n",
    "    'n_estimators': [100, 200],\n",
    "    'max_depth': [None, 10, 20],\n",
    "    'min_samples_split': [2, 5],\n",
    "    'min_samples_leaf': [1, 2]\n",
    "}\n",
    "\n",
    "grid = GridSearchCV(RandomForestRegressor(random_state=42), param_grid,\n",
    "                    scoring='neg_root_mean_squared_error', cv=5, n_jobs=-1)\n",
    "\n",
    "grid.fit(X_train, y_train)\n",
    "\n",
    "print(\"✅ Best params:\", grid.best_params_)\n",
    "print(\"✅ Best RMSE:\", -grid.best_score_)\n"
   ]
  },
  {
   "cell_type": "code",
   "execution_count": 43,
   "id": "7fc473dd",
   "metadata": {},
   "outputs": [
    {
     "name": "stdout",
     "output_type": "stream",
     "text": [
      "XGBRegressor ⟶ RMSE: 0.3991\n"
     ]
    },
    {
     "data": {
      "text/plain": [
       "np.float64(0.3991384102991369)"
      ]
     },
     "execution_count": 43,
     "metadata": {},
     "output_type": "execute_result"
    }
   ],
   "source": [
    "from xgboost import XGBRegressor\n",
    "\n",
    "xgb = XGBRegressor(n_estimators=200, learning_rate=0.05, max_depth=6, random_state=42, n_jobs=-1)\n",
    "evaluate_model(xgb, X_train, y_train)\n"
   ]
  },
  {
   "cell_type": "code",
   "execution_count": null,
   "id": "6ff7dde0",
   "metadata": {},
   "outputs": [],
   "source": []
  },
  {
   "cell_type": "code",
   "execution_count": 44,
   "id": "417b8a76",
   "metadata": {},
   "outputs": [
    {
     "name": "stdout",
     "output_type": "stream",
     "text": [
      "Fitting 5 folds for each of 20 candidates, totalling 100 fits\n",
      "✅ Best RMSE: 0.39622265385497923\n",
      "✅ Best params: {'subsample': 1, 'n_estimators': 200, 'max_depth': 6, 'learning_rate': 0.1, 'colsample_bytree': 0.7}\n"
     ]
    }
   ],
   "source": [
    "from sklearn.model_selection import RandomizedSearchCV\n",
    "\n",
    "param_grid = {\n",
    "    'n_estimators': [100, 200, 300],\n",
    "    'learning_rate': [0.01, 0.05, 0.1],\n",
    "    'max_depth': [4, 6, 8],\n",
    "    'subsample': [0.8, 1],\n",
    "    'colsample_bytree': [0.7, 1.0]\n",
    "}\n",
    "\n",
    "random_search = RandomizedSearchCV(\n",
    "    estimator=XGBRegressor(random_state=42, n_jobs=-1),\n",
    "    param_distributions=param_grid,\n",
    "    scoring='neg_root_mean_squared_error',\n",
    "    n_iter=20,\n",
    "    cv=5,\n",
    "    verbose=1,\n",
    "    random_state=42\n",
    ")\n",
    "\n",
    "random_search.fit(X_train, y_train)\n",
    "print(\"✅ Best RMSE:\", -random_search.best_score_)\n",
    "print(\"✅ Best params:\", random_search.best_params_)\n"
   ]
  },
  {
   "cell_type": "code",
   "execution_count": null,
   "id": "8da540f5",
   "metadata": {},
   "outputs": [
    {
     "ename": "ValueError",
     "evalue": "array length 51877 does not match index length 22234",
     "output_type": "error",
     "traceback": [
      "\u001b[31m---------------------------------------------------------------------------\u001b[39m",
      "\u001b[31mValueError\u001b[39m                                Traceback (most recent call last)",
      "\u001b[36mCell\u001b[39m\u001b[36m \u001b[39m\u001b[32mIn[46]\u001b[39m\u001b[32m, line 18\u001b[39m\n\u001b[32m     15\u001b[39m y_pred = xgb.predict(X_test)  \u001b[38;5;66;03m# ou sur X_train si tu préfères\u001b[39;00m\n\u001b[32m     17\u001b[39m \u001b[38;5;66;03m# 3. Créer un DataFrame avec les résultats\u001b[39;00m\n\u001b[32m---> \u001b[39m\u001b[32m18\u001b[39m results = \u001b[43mpd\u001b[49m\u001b[43m.\u001b[49m\u001b[43mDataFrame\u001b[49m\u001b[43m(\u001b[49m\u001b[43m{\u001b[49m\n\u001b[32m     19\u001b[39m \u001b[43m    \u001b[49m\u001b[33;43m'\u001b[39;49m\u001b[33;43my_true\u001b[39;49m\u001b[33;43m'\u001b[39;49m\u001b[43m:\u001b[49m\u001b[43m \u001b[49m\u001b[43my_train\u001b[49m\u001b[43m,\u001b[49m\u001b[43m    \u001b[49m\u001b[38;5;66;43;03m# ou y_train selon ton cas\u001b[39;49;00m\n\u001b[32m     20\u001b[39m \u001b[43m    \u001b[49m\u001b[33;43m'\u001b[39;49m\u001b[33;43my_pred\u001b[39;49m\u001b[33;43m'\u001b[39;49m\u001b[43m:\u001b[49m\u001b[43m \u001b[49m\u001b[43my_pred\u001b[49m\n\u001b[32m     21\u001b[39m \u001b[43m}\u001b[49m\u001b[43m)\u001b[49m\n\u001b[32m     23\u001b[39m \u001b[38;5;66;03m# 4. Sauvegarder dans un fichier CSV\u001b[39;00m\n\u001b[32m     24\u001b[39m results.to_csv(\u001b[33m'\u001b[39m\u001b[33mpredictions_xgboost.csv\u001b[39m\u001b[33m'\u001b[39m, index=\u001b[38;5;28;01mFalse\u001b[39;00m)\n",
      "\u001b[36mFile \u001b[39m\u001b[32m~/Bureau/WorkSpace/Cours-Data-Science-M2/env/lib/python3.12/site-packages/pandas/core/frame.py:778\u001b[39m, in \u001b[36mDataFrame.__init__\u001b[39m\u001b[34m(self, data, index, columns, dtype, copy)\u001b[39m\n\u001b[32m    772\u001b[39m     mgr = \u001b[38;5;28mself\u001b[39m._init_mgr(\n\u001b[32m    773\u001b[39m         data, axes={\u001b[33m\"\u001b[39m\u001b[33mindex\u001b[39m\u001b[33m\"\u001b[39m: index, \u001b[33m\"\u001b[39m\u001b[33mcolumns\u001b[39m\u001b[33m\"\u001b[39m: columns}, dtype=dtype, copy=copy\n\u001b[32m    774\u001b[39m     )\n\u001b[32m    776\u001b[39m \u001b[38;5;28;01melif\u001b[39;00m \u001b[38;5;28misinstance\u001b[39m(data, \u001b[38;5;28mdict\u001b[39m):\n\u001b[32m    777\u001b[39m     \u001b[38;5;66;03m# GH#38939 de facto copy defaults to False only in non-dict cases\u001b[39;00m\n\u001b[32m--> \u001b[39m\u001b[32m778\u001b[39m     mgr = \u001b[43mdict_to_mgr\u001b[49m\u001b[43m(\u001b[49m\u001b[43mdata\u001b[49m\u001b[43m,\u001b[49m\u001b[43m \u001b[49m\u001b[43mindex\u001b[49m\u001b[43m,\u001b[49m\u001b[43m \u001b[49m\u001b[43mcolumns\u001b[49m\u001b[43m,\u001b[49m\u001b[43m \u001b[49m\u001b[43mdtype\u001b[49m\u001b[43m=\u001b[49m\u001b[43mdtype\u001b[49m\u001b[43m,\u001b[49m\u001b[43m \u001b[49m\u001b[43mcopy\u001b[49m\u001b[43m=\u001b[49m\u001b[43mcopy\u001b[49m\u001b[43m,\u001b[49m\u001b[43m \u001b[49m\u001b[43mtyp\u001b[49m\u001b[43m=\u001b[49m\u001b[43mmanager\u001b[49m\u001b[43m)\u001b[49m\n\u001b[32m    779\u001b[39m \u001b[38;5;28;01melif\u001b[39;00m \u001b[38;5;28misinstance\u001b[39m(data, ma.MaskedArray):\n\u001b[32m    780\u001b[39m     \u001b[38;5;28;01mfrom\u001b[39;00m\u001b[38;5;250m \u001b[39m\u001b[34;01mnumpy\u001b[39;00m\u001b[34;01m.\u001b[39;00m\u001b[34;01mma\u001b[39;00m\u001b[38;5;250m \u001b[39m\u001b[38;5;28;01mimport\u001b[39;00m mrecords\n",
      "\u001b[36mFile \u001b[39m\u001b[32m~/Bureau/WorkSpace/Cours-Data-Science-M2/env/lib/python3.12/site-packages/pandas/core/internals/construction.py:503\u001b[39m, in \u001b[36mdict_to_mgr\u001b[39m\u001b[34m(data, index, columns, dtype, typ, copy)\u001b[39m\n\u001b[32m    499\u001b[39m     \u001b[38;5;28;01melse\u001b[39;00m:\n\u001b[32m    500\u001b[39m         \u001b[38;5;66;03m# dtype check to exclude e.g. range objects, scalars\u001b[39;00m\n\u001b[32m    501\u001b[39m         arrays = [x.copy() \u001b[38;5;28;01mif\u001b[39;00m \u001b[38;5;28mhasattr\u001b[39m(x, \u001b[33m\"\u001b[39m\u001b[33mdtype\u001b[39m\u001b[33m\"\u001b[39m) \u001b[38;5;28;01melse\u001b[39;00m x \u001b[38;5;28;01mfor\u001b[39;00m x \u001b[38;5;129;01min\u001b[39;00m arrays]\n\u001b[32m--> \u001b[39m\u001b[32m503\u001b[39m \u001b[38;5;28;01mreturn\u001b[39;00m \u001b[43marrays_to_mgr\u001b[49m\u001b[43m(\u001b[49m\u001b[43marrays\u001b[49m\u001b[43m,\u001b[49m\u001b[43m \u001b[49m\u001b[43mcolumns\u001b[49m\u001b[43m,\u001b[49m\u001b[43m \u001b[49m\u001b[43mindex\u001b[49m\u001b[43m,\u001b[49m\u001b[43m \u001b[49m\u001b[43mdtype\u001b[49m\u001b[43m=\u001b[49m\u001b[43mdtype\u001b[49m\u001b[43m,\u001b[49m\u001b[43m \u001b[49m\u001b[43mtyp\u001b[49m\u001b[43m=\u001b[49m\u001b[43mtyp\u001b[49m\u001b[43m,\u001b[49m\u001b[43m \u001b[49m\u001b[43mconsolidate\u001b[49m\u001b[43m=\u001b[49m\u001b[43mcopy\u001b[49m\u001b[43m)\u001b[49m\n",
      "\u001b[36mFile \u001b[39m\u001b[32m~/Bureau/WorkSpace/Cours-Data-Science-M2/env/lib/python3.12/site-packages/pandas/core/internals/construction.py:114\u001b[39m, in \u001b[36marrays_to_mgr\u001b[39m\u001b[34m(arrays, columns, index, dtype, verify_integrity, typ, consolidate)\u001b[39m\n\u001b[32m    111\u001b[39m \u001b[38;5;28;01mif\u001b[39;00m verify_integrity:\n\u001b[32m    112\u001b[39m     \u001b[38;5;66;03m# figure out the index, if necessary\u001b[39;00m\n\u001b[32m    113\u001b[39m     \u001b[38;5;28;01mif\u001b[39;00m index \u001b[38;5;129;01mis\u001b[39;00m \u001b[38;5;28;01mNone\u001b[39;00m:\n\u001b[32m--> \u001b[39m\u001b[32m114\u001b[39m         index = \u001b[43m_extract_index\u001b[49m\u001b[43m(\u001b[49m\u001b[43marrays\u001b[49m\u001b[43m)\u001b[49m\n\u001b[32m    115\u001b[39m     \u001b[38;5;28;01melse\u001b[39;00m:\n\u001b[32m    116\u001b[39m         index = ensure_index(index)\n",
      "\u001b[36mFile \u001b[39m\u001b[32m~/Bureau/WorkSpace/Cours-Data-Science-M2/env/lib/python3.12/site-packages/pandas/core/internals/construction.py:690\u001b[39m, in \u001b[36m_extract_index\u001b[39m\u001b[34m(data)\u001b[39m\n\u001b[32m    685\u001b[39m     \u001b[38;5;28;01mif\u001b[39;00m lengths[\u001b[32m0\u001b[39m] != \u001b[38;5;28mlen\u001b[39m(index):\n\u001b[32m    686\u001b[39m         msg = (\n\u001b[32m    687\u001b[39m             \u001b[33mf\u001b[39m\u001b[33m\"\u001b[39m\u001b[33marray length \u001b[39m\u001b[38;5;132;01m{\u001b[39;00mlengths[\u001b[32m0\u001b[39m]\u001b[38;5;132;01m}\u001b[39;00m\u001b[33m does not match index \u001b[39m\u001b[33m\"\u001b[39m\n\u001b[32m    688\u001b[39m             \u001b[33mf\u001b[39m\u001b[33m\"\u001b[39m\u001b[33mlength \u001b[39m\u001b[38;5;132;01m{\u001b[39;00m\u001b[38;5;28mlen\u001b[39m(index)\u001b[38;5;132;01m}\u001b[39;00m\u001b[33m\"\u001b[39m\n\u001b[32m    689\u001b[39m         )\n\u001b[32m--> \u001b[39m\u001b[32m690\u001b[39m         \u001b[38;5;28;01mraise\u001b[39;00m \u001b[38;5;167;01mValueError\u001b[39;00m(msg)\n\u001b[32m    691\u001b[39m \u001b[38;5;28;01melse\u001b[39;00m:\n\u001b[32m    692\u001b[39m     index = default_index(lengths[\u001b[32m0\u001b[39m])\n",
      "\u001b[31mValueError\u001b[39m: array length 51877 does not match index length 22234"
     ]
    }
   ],
   "source": [
    "from xgboost import XGBRegressor\n",
    "import pandas as pd\n",
    "\n",
    "# 1. Entraînement\n",
    "xgb = XGBRegressor(\n",
    "    n_estimators=200,\n",
    "    learning_rate=0.05,\n",
    "    max_depth=6,\n",
    "    random_state=42,\n",
    "    n_jobs=-1\n",
    ")\n",
    "xgb.fit(X_train, y_train)\n",
    "\n",
    "# 2. Prédictions\n",
    "y_pred = xgb.predict(X_test)  # ou sur X_train si tu préfères\n",
    "\n",
    "# 3. Créer un DataFrame avec les résultats\n",
    "results = pd.DataFrame({\n",
    "    'y_true': y_test,    # ou y_train selon ton cas\n",
    "    'y_pred': y_pred\n",
    "})\n",
    "\n",
    "# 4. Sauvegarder dans un fichier CSV\n",
    "results.to_csv('predictions_xgboost.csv', index=False)\n"
   ]
  }
 ],
 "metadata": {
  "kernelspec": {
   "display_name": "env",
   "language": "python",
   "name": "python3"
  },
  "language_info": {
   "codemirror_mode": {
    "name": "ipython",
    "version": 3
   },
   "file_extension": ".py",
   "mimetype": "text/x-python",
   "name": "python",
   "nbconvert_exporter": "python",
   "pygments_lexer": "ipython3",
   "version": "3.12.3"
  }
 },
 "nbformat": 4,
 "nbformat_minor": 5
}
